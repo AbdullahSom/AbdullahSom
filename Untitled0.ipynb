{
  "nbformat": 4,
  "nbformat_minor": 0,
  "metadata": {
    "colab": {
      "provenance": [],
      "authorship_tag": "ABX9TyNTBSoE7eMAJCX3cj+rEiMR",
      "include_colab_link": true
    },
    "kernelspec": {
      "name": "python3",
      "display_name": "Python 3"
    },
    "language_info": {
      "name": "python"
    }
  },
  "cells": [
    {
      "cell_type": "markdown",
      "metadata": {
        "id": "view-in-github",
        "colab_type": "text"
      },
      "source": [
        "<a href=\"https://colab.research.google.com/github/AbdullahSom/AbdullahSom/blob/main/Untitled0.ipynb\" target=\"_parent\"><img src=\"https://colab.research.google.com/assets/colab-badge.svg\" alt=\"Open In Colab\"/></a>"
      ]
    },
    {
      "cell_type": "code",
      "source": [
        "!pip install streamlit requests pillow pyngrok"
      ],
      "metadata": {
        "colab": {
          "base_uri": "https://localhost:8080/"
        },
        "collapsed": true,
        "id": "7vBhvgP-d0Lu",
        "outputId": "5e3f07a7-b529-4ac0-aaf9-ac5ad16e3130"
      },
      "execution_count": 1,
      "outputs": [
        {
          "output_type": "stream",
          "name": "stdout",
          "text": [
            "Collecting streamlit\n",
            "  Downloading streamlit-1.41.1-py2.py3-none-any.whl.metadata (8.5 kB)\n",
            "Requirement already satisfied: requests in /usr/local/lib/python3.10/dist-packages (2.32.3)\n",
            "Requirement already satisfied: pillow in /usr/local/lib/python3.10/dist-packages (11.0.0)\n",
            "Collecting pyngrok\n",
            "  Downloading pyngrok-7.2.2-py3-none-any.whl.metadata (8.4 kB)\n",
            "Requirement already satisfied: altair<6,>=4.0 in /usr/local/lib/python3.10/dist-packages (from streamlit) (5.5.0)\n",
            "Requirement already satisfied: blinker<2,>=1.0.0 in /usr/local/lib/python3.10/dist-packages (from streamlit) (1.9.0)\n",
            "Requirement already satisfied: cachetools<6,>=4.0 in /usr/local/lib/python3.10/dist-packages (from streamlit) (5.5.0)\n",
            "Requirement already satisfied: click<9,>=7.0 in /usr/local/lib/python3.10/dist-packages (from streamlit) (8.1.7)\n",
            "Requirement already satisfied: numpy<3,>=1.23 in /usr/local/lib/python3.10/dist-packages (from streamlit) (1.26.4)\n",
            "Requirement already satisfied: packaging<25,>=20 in /usr/local/lib/python3.10/dist-packages (from streamlit) (24.2)\n",
            "Requirement already satisfied: pandas<3,>=1.4.0 in /usr/local/lib/python3.10/dist-packages (from streamlit) (2.2.2)\n",
            "Requirement already satisfied: protobuf<6,>=3.20 in /usr/local/lib/python3.10/dist-packages (from streamlit) (4.25.5)\n",
            "Requirement already satisfied: pyarrow>=7.0 in /usr/local/lib/python3.10/dist-packages (from streamlit) (17.0.0)\n",
            "Requirement already satisfied: rich<14,>=10.14.0 in /usr/local/lib/python3.10/dist-packages (from streamlit) (13.9.4)\n",
            "Requirement already satisfied: tenacity<10,>=8.1.0 in /usr/local/lib/python3.10/dist-packages (from streamlit) (9.0.0)\n",
            "Requirement already satisfied: toml<2,>=0.10.1 in /usr/local/lib/python3.10/dist-packages (from streamlit) (0.10.2)\n",
            "Requirement already satisfied: typing-extensions<5,>=4.3.0 in /usr/local/lib/python3.10/dist-packages (from streamlit) (4.12.2)\n",
            "Collecting watchdog<7,>=2.1.5 (from streamlit)\n",
            "  Downloading watchdog-6.0.0-py3-none-manylinux2014_x86_64.whl.metadata (44 kB)\n",
            "\u001b[2K     \u001b[90m━━━━━━━━━━━━━━━━━━━━━━━━━━━━━━━━━━━━━━━━\u001b[0m \u001b[32m44.3/44.3 kB\u001b[0m \u001b[31m2.2 MB/s\u001b[0m eta \u001b[36m0:00:00\u001b[0m\n",
            "\u001b[?25hRequirement already satisfied: gitpython!=3.1.19,<4,>=3.0.7 in /usr/local/lib/python3.10/dist-packages (from streamlit) (3.1.43)\n",
            "Collecting pydeck<1,>=0.8.0b4 (from streamlit)\n",
            "  Downloading pydeck-0.9.1-py2.py3-none-any.whl.metadata (4.1 kB)\n",
            "Requirement already satisfied: tornado<7,>=6.0.3 in /usr/local/lib/python3.10/dist-packages (from streamlit) (6.3.3)\n",
            "Requirement already satisfied: charset-normalizer<4,>=2 in /usr/local/lib/python3.10/dist-packages (from requests) (3.4.0)\n",
            "Requirement already satisfied: idna<4,>=2.5 in /usr/local/lib/python3.10/dist-packages (from requests) (3.10)\n",
            "Requirement already satisfied: urllib3<3,>=1.21.1 in /usr/local/lib/python3.10/dist-packages (from requests) (2.2.3)\n",
            "Requirement already satisfied: certifi>=2017.4.17 in /usr/local/lib/python3.10/dist-packages (from requests) (2024.12.14)\n",
            "Requirement already satisfied: PyYAML>=5.1 in /usr/local/lib/python3.10/dist-packages (from pyngrok) (6.0.2)\n",
            "Requirement already satisfied: jinja2 in /usr/local/lib/python3.10/dist-packages (from altair<6,>=4.0->streamlit) (3.1.4)\n",
            "Requirement already satisfied: jsonschema>=3.0 in /usr/local/lib/python3.10/dist-packages (from altair<6,>=4.0->streamlit) (4.23.0)\n",
            "Requirement already satisfied: narwhals>=1.14.2 in /usr/local/lib/python3.10/dist-packages (from altair<6,>=4.0->streamlit) (1.18.4)\n",
            "Requirement already satisfied: gitdb<5,>=4.0.1 in /usr/local/lib/python3.10/dist-packages (from gitpython!=3.1.19,<4,>=3.0.7->streamlit) (4.0.11)\n",
            "Requirement already satisfied: python-dateutil>=2.8.2 in /usr/local/lib/python3.10/dist-packages (from pandas<3,>=1.4.0->streamlit) (2.8.2)\n",
            "Requirement already satisfied: pytz>=2020.1 in /usr/local/lib/python3.10/dist-packages (from pandas<3,>=1.4.0->streamlit) (2024.2)\n",
            "Requirement already satisfied: tzdata>=2022.7 in /usr/local/lib/python3.10/dist-packages (from pandas<3,>=1.4.0->streamlit) (2024.2)\n",
            "Requirement already satisfied: markdown-it-py>=2.2.0 in /usr/local/lib/python3.10/dist-packages (from rich<14,>=10.14.0->streamlit) (3.0.0)\n",
            "Requirement already satisfied: pygments<3.0.0,>=2.13.0 in /usr/local/lib/python3.10/dist-packages (from rich<14,>=10.14.0->streamlit) (2.18.0)\n",
            "Requirement already satisfied: smmap<6,>=3.0.1 in /usr/local/lib/python3.10/dist-packages (from gitdb<5,>=4.0.1->gitpython!=3.1.19,<4,>=3.0.7->streamlit) (5.0.1)\n",
            "Requirement already satisfied: MarkupSafe>=2.0 in /usr/local/lib/python3.10/dist-packages (from jinja2->altair<6,>=4.0->streamlit) (3.0.2)\n",
            "Requirement already satisfied: attrs>=22.2.0 in /usr/local/lib/python3.10/dist-packages (from jsonschema>=3.0->altair<6,>=4.0->streamlit) (24.3.0)\n",
            "Requirement already satisfied: jsonschema-specifications>=2023.03.6 in /usr/local/lib/python3.10/dist-packages (from jsonschema>=3.0->altair<6,>=4.0->streamlit) (2024.10.1)\n",
            "Requirement already satisfied: referencing>=0.28.4 in /usr/local/lib/python3.10/dist-packages (from jsonschema>=3.0->altair<6,>=4.0->streamlit) (0.35.1)\n",
            "Requirement already satisfied: rpds-py>=0.7.1 in /usr/local/lib/python3.10/dist-packages (from jsonschema>=3.0->altair<6,>=4.0->streamlit) (0.22.3)\n",
            "Requirement already satisfied: mdurl~=0.1 in /usr/local/lib/python3.10/dist-packages (from markdown-it-py>=2.2.0->rich<14,>=10.14.0->streamlit) (0.1.2)\n",
            "Requirement already satisfied: six>=1.5 in /usr/local/lib/python3.10/dist-packages (from python-dateutil>=2.8.2->pandas<3,>=1.4.0->streamlit) (1.17.0)\n",
            "Downloading streamlit-1.41.1-py2.py3-none-any.whl (9.1 MB)\n",
            "\u001b[2K   \u001b[90m━━━━━━━━━━━━━━━━━━━━━━━━━━━━━━━━━━━━━━━━\u001b[0m \u001b[32m9.1/9.1 MB\u001b[0m \u001b[31m57.3 MB/s\u001b[0m eta \u001b[36m0:00:00\u001b[0m\n",
            "\u001b[?25hDownloading pyngrok-7.2.2-py3-none-any.whl (22 kB)\n",
            "Downloading pydeck-0.9.1-py2.py3-none-any.whl (6.9 MB)\n",
            "\u001b[2K   \u001b[90m━━━━━━━━━━━━━━━━━━━━━━━━━━━━━━━━━━━━━━━━\u001b[0m \u001b[32m6.9/6.9 MB\u001b[0m \u001b[31m63.1 MB/s\u001b[0m eta \u001b[36m0:00:00\u001b[0m\n",
            "\u001b[?25hDownloading watchdog-6.0.0-py3-none-manylinux2014_x86_64.whl (79 kB)\n",
            "\u001b[2K   \u001b[90m━━━━━━━━━━━━━━━━━━━━━━━━━━━━━━━━━━━━━━━━\u001b[0m \u001b[32m79.1/79.1 kB\u001b[0m \u001b[31m5.5 MB/s\u001b[0m eta \u001b[36m0:00:00\u001b[0m\n",
            "\u001b[?25hInstalling collected packages: watchdog, pyngrok, pydeck, streamlit\n",
            "Successfully installed pydeck-0.9.1 pyngrok-7.2.2 streamlit-1.41.1 watchdog-6.0.0\n"
          ]
        }
      ]
    },
    {
      "cell_type": "code",
      "source": [
        "!ngrok authtoken 2qoOJs4rCynDNRPq2ogbRHBd5oo_7hv4cbc9JMz1Kqw8AEapf"
      ],
      "metadata": {
        "colab": {
          "base_uri": "https://localhost:8080/"
        },
        "id": "SCueDgvxbRTp",
        "outputId": "20ff25da-8103-43d8-95f1-1ccb73ee43fc"
      },
      "execution_count": 2,
      "outputs": [
        {
          "output_type": "stream",
          "name": "stdout",
          "text": [
            "Authtoken saved to configuration file: /root/.config/ngrok/ngrok.yml\n"
          ]
        }
      ]
    },
    {
      "cell_type": "code",
      "source": [
        "%%writefile app.py\n",
        "import streamlit as st\n",
        "import requests\n",
        "import pandas as pd\n",
        "from PIL import Image\n",
        "\n",
        "# Define your API keys\n",
        "BING_API_KEY = 'a2dc7820ceec40cd8510d5216af2acd8'\n",
        "USDA_API_KEY = 'a3Kjbw3msqaHPSYFBGTo4zk5WNCZ72QCy1rzjpx3'\n",
        "\n",
        "# Helper function to call Bing Visual Search API\n",
        "def reverse_image_search(image_data):\n",
        "    search_url = \"https://api.bing.microsoft.com/v7.0/images/visualsearch\"\n",
        "    headers = {\"Ocp-Apim-Subscription-Key\": BING_API_KEY}\n",
        "    files = {\"image\": (\"image.jpg\", image_data, \"multipart/form-data\")}\n",
        "\n",
        "    try:\n",
        "        response = requests.post(search_url, headers=headers, files=files)\n",
        "        response.raise_for_status()\n",
        "        search_results = response.json()\n",
        "\n",
        "        # Extract names from the first three search results\n",
        "        product_names = []\n",
        "        if \"tags\" in search_results and len(search_results[\"tags\"]) > 0:\n",
        "            tag = search_results[\"tags\"][0]  # Get the top tag\n",
        "            if \"actions\" in tag and len(tag[\"actions\"]) > 0:\n",
        "                for action in tag[\"actions\"][:3]:  # Get the top three actions\n",
        "                    if \"data\" in action and \"value\" in action[\"data\"] and len(action[\"data\"][\"value\"]) > 0:\n",
        "                        product_names.append(action[\"data\"][\"value\"][0].get(\"name\"))\n",
        "        return product_names\n",
        "\n",
        "    except requests.exceptions.RequestException as e:\n",
        "        st.error(f\"Request failed: {e}\")\n",
        "        return []\n",
        "\n",
        "# Helper function to call USDA FoodData Central API\n",
        "def get_nutritional_info(food_item):\n",
        "    nutritional_url = f'https://api.nal.usda.gov/fdc/v1/foods/search?api_key={USDA_API_KEY}&query={food_item}'\n",
        "    try:\n",
        "        response = requests.get(nutritional_url)\n",
        "        response.raise_for_status()\n",
        "        nutritional_data = response.json()\n",
        "        if 'foods' in nutritional_data and nutritional_data['foods']:\n",
        "            food = nutritional_data['foods'][0]\n",
        "            nutrition = food['foodNutrients']\n",
        "            serving_size = 100  # Use 100g as the default serving size\n",
        "            serving_unit = 'g'\n",
        "            product_name = food.get('description', 'Unknown Product')\n",
        "            fdc_id = food.get('fdcId')\n",
        "            usda_url = f\"https://fdc.nal.usda.gov/fdc-app.html#/food-details/{fdc_id}/nutrition\"\n",
        "            return nutrition, serving_size, serving_unit, product_name, usda_url, fdc_id\n",
        "        else:\n",
        "            return [], 100, 'g', 'Unknown Product', '', None\n",
        "    except requests.exceptions.RequestException as e:\n",
        "        st.error(f\"Request failed: {e}\")\n",
        "        return [], 100, 'g', 'Unknown Product', '', None\n",
        "\n",
        "# Helper function to check for specific keywords in nutrient names and ensure the value is greater than 0\n",
        "def check_non_halal(nutrition, non_halal_list):\n",
        "    found_non_halal = []\n",
        "    for nutrient in nutrition:\n",
        "        for item in non_halal_list:\n",
        "            if item.lower() in nutrient['nutrientName'].lower() and nutrient['value'] > 0:\n",
        "                found_non_halal.append((item, nutrient['nutrientName']))\n",
        "    return found_non_halal\n",
        "\n",
        "# Helper function to adjust nutritional values based on serving size\n",
        "def adjust_serving_size(nutrition, multiplier):\n",
        "    adjusted_nutrition = []\n",
        "    for nutrient in nutrition:\n",
        "        adjusted_value = nutrient['value'] * multiplier\n",
        "        adjusted_nutrition.append({\n",
        "            'nutrientName': nutrient['nutrientName'],\n",
        "            'value': adjusted_value,\n",
        "            'unitName': nutrient['unitName']\n",
        "        })\n",
        "    return adjusted_nutrition\n",
        "\n",
        "# Helper function to check for allergens\n",
        "def check_allergens(nutrition, allergens):\n",
        "    allergens_detected = []\n",
        "    for nutrient in nutrition:\n",
        "        if any(allergen.lower() in nutrient['nutrientName'].lower() for allergen in allergens):\n",
        "            allergens_detected.append(nutrient['nutrientName'])\n",
        "    return allergens_detected\n",
        "\n",
        "# Helper function to provide recommendations based on protein and calorie density\n",
        "def match_goals(adjusted_nutrition, serving_size, goals):\n",
        "    recommended = []\n",
        "    protein = next((nutrient for nutrient in adjusted_nutrition if nutrient['nutrientName'].lower() == 'protein'), None)\n",
        "    calories = next((nutrient for nutrient in adjusted_nutrition if nutrient['nutrientName'].lower() == 'energy'), None)\n",
        "\n",
        "    if protein and calories:\n",
        "        protein_per_gram = protein['value'] / serving_size\n",
        "        calories_per_gram = calories['value'] / serving_size\n",
        "\n",
        "        for goal in goals:\n",
        "            if goal == 'muscle gain':\n",
        "                if protein_per_gram >= 0.1:  # Example threshold for high protein density\n",
        "                    recommended.append(f'High in Protein: {protein_per_gram *100} g per 100 grams')\n",
        "                else:\n",
        "                    recommended.append(f'Low in Protein: {protein_per_gram *100} g per 100 grams')\n",
        "            elif goal == 'weight loss':\n",
        "                if calories_per_gram <= 2:  # Example threshold for low calorie density\n",
        "                    recommended.append(f'Low in Calories: {calories_per_gram *100} kcal per 100 grams')\n",
        "                else:\n",
        "                    recommended.append(f'High in Calories: {calories_per_gram *100} kcal per 100 grams')\n",
        "    return recommended\n",
        "\n",
        "# Streamlit UI\n",
        "st.title('NutriScan')\n",
        "\n",
        "uploaded_file = st.file_uploader(\"Choose an image...\", type=[\"jpg\", \"png\", \"jpeg\"])\n",
        "if uploaded_file is not None:\n",
        "    image = Image.open(uploaded_file)\n",
        "    st.image(image, caption='Uploaded Image.', use_container_width=True)\n",
        "\n",
        "    st.write(\"Detecting food item...\")\n",
        "    image_data = uploaded_file.getvalue()  # Get the uploaded image data\n",
        "    product_names = reverse_image_search(image_data)\n",
        "    if product_names:\n",
        "        food_item = st.selectbox('Select the detected food item:', product_names)\n",
        "\n",
        "        if food_item:\n",
        "            st.write(\"Fetching nutritional information...\")\n",
        "            nutrition, serving_size, serving_unit, product_name, usda_url, fdc_id = get_nutritional_info(food_item)\n",
        "\n",
        "            # Display product name, serving size info, and USDA URL\n",
        "            st.write(f\"Product Name: {product_name}\")\n",
        "            st.write(f\"Serving Size: {serving_size} {serving_unit}\")\n",
        "            if usda_url:\n",
        "                st.write(f\"[USDA Page for {product_name}]({usda_url})\")\n",
        "\n",
        "            if nutrition:\n",
        "                # User input for desired amount in grams or ml\n",
        "                desired_amount = st.number_input('Enter the amount you want to know about (grams or ml):', min_value=1)\n",
        "                multiplier = desired_amount / serving_size\n",
        "\n",
        "                # Adjust nutritional values based on user input\n",
        "                adjusted_nutrition = adjust_serving_size(nutrition, multiplier)\n",
        "\n",
        "                # Ensure that the sum of macronutrients does not exceed the actual weight\n",
        "                total_macronutrients = sum(nutrient['value'] for nutrient in adjusted_nutrition if nutrient['nutrientName'].lower() in ['protein', 'total lipid (fat)', 'carbohydrate, by difference'])\n",
        "                if total_macronutrients > desired_amount:\n",
        "                    st.write(\"Warning: The sum of macronutrients exceeds the actual weight of the product. Please check the input values.\")\n",
        "\n",
        "                # Separate tables for different nutritional info\n",
        "                main_nutrients = ['Energy', 'Protein', 'Total lipid (fat)', 'Carbohydrate, by difference', 'Sugars, total including NLEA']\n",
        "                vitamins_minerals = ['Vitamin C, total ascorbic acid', 'Calcium, Ca', 'Iron, Fe', 'Vitamin A, RAE', 'Potassium, K']\n",
        "\n",
        "                st.write(\"### Main Nutritional Information\")\n",
        "                main_df = pd.DataFrame([nutrient for nutrient in adjusted_nutrition if nutrient['nutrientName'] in main_nutrients])\n",
        "                st.dataframe(main_df[['nutrientName', 'value', 'unitName']])\n",
        "\n",
        "                st.write(\"### Vitamins and Minerals\")\n",
        "                vitamins_df = pd.DataFrame([nutrient for nutrient in adjusted_nutrition if nutrient['nutrientName'] in vitamins_minerals])\n",
        "                st.dataframe(vitamins_df[['nutrientName', 'value', 'unitName']])\n",
        "\n",
        "                st.write(\"### Additional Ingredients\")\n",
        "                additional_df = pd.DataFrame([nutrient for nutrient in adjusted_nutrition if nutrient['nutrientName'] not in main_nutrients and nutrient['nutrientName'] not in vitamins_minerals and nutrient['value'] > 0])\n",
        "                st.dataframe(additional_df[['nutrientName', 'value', 'unitName']])\n",
        "\n",
        "                allergens = ['Peanuts', 'Tree nuts', 'Milk', 'Eggs', 'Wheat', 'Soy', 'Fish', 'Shellfish']\n",
        "                allergens_detected = check_allergens(adjusted_nutrition, allergens)\n",
        "                st.write(f\"Contains allergens: {', '.join(allergens_detected) if allergens_detected else 'No common allergens detected'}\")\n",
        "\n",
        "                # Use the updated check_non_halal function in your Streamlit app\n",
        "                non_halal_list = ['gelatin', 'lard', 'alcohol']  # Extend this list as needed\n",
        "                non_halal_found = check_non_halal(adjusted_nutrition, non_halal_list)\n",
        "                if non_halal_found:\n",
        "                  st.write(\"### Non-Halal Items Found\")\n",
        "                  for item, nutrient_name in non_halal_found:\n",
        "                    st.write(f\"{item.capitalize()} found in: {nutrient_name}\")\n",
        "                  else:\n",
        "                    st.write(\"No non-halal items found.\")\n",
        "\n",
        "                user_goals = st.multiselect('Select your goals', ['muscle gain', 'weight loss'])\n",
        "                if user_goals:\n",
        "                    recommendations = match_goals(adjusted_nutrition, desired_amount, user_goals)\n",
        "                    st.write(f\"### Recommendations\")\n",
        "                    st.write(f\"{', '.join(recommendations) if recommendations else 'No specific recommendations'}\")\n",
        "            else:\n",
        "                st.write(\"No nutritional information found.\")\n",
        "    else:\n",
        "        st.write(\"Could not detect food item from image.\")"
      ],
      "metadata": {
        "colab": {
          "base_uri": "https://localhost:8080/"
        },
        "id": "M6Zg-7WFvVK8",
        "outputId": "dc14f9e4-efeb-4023-e669-b5c16c98db3a"
      },
      "execution_count": 3,
      "outputs": [
        {
          "output_type": "stream",
          "name": "stdout",
          "text": [
            "Writing app.py\n"
          ]
        }
      ]
    },
    {
      "cell_type": "code",
      "source": [
        "from pyngrok import ngrok\n",
        "\n",
        "# Start ngrok tunnel with the new v2 authtoken\n",
        "ngrok.set_auth_token(\"2qoOJs4rCynDNRPq2ogbRHBd5oo_7hv4cbc9JMz1Kqw8AEapf\")\n",
        "public_url = ngrok.connect(8501)\n",
        "print(f\"Streamlit app is running on {public_url}\")\n",
        "\n",
        "# Run Streamlit app\n",
        "!streamlit run app.py"
      ],
      "metadata": {
        "colab": {
          "base_uri": "https://localhost:8080/"
        },
        "id": "IyvdHzQOg2aX",
        "outputId": "e7765e4f-a360-4043-d7e4-795201511824"
      },
      "execution_count": 5,
      "outputs": [
        {
          "output_type": "stream",
          "name": "stdout",
          "text": [
            "Streamlit app is running on NgrokTunnel: \"https://aaac-104-196-252-100.ngrok-free.app\" -> \"http://localhost:8501\"\n",
            "\n",
            "Collecting usage statistics. To deactivate, set browser.gatherUsageStats to false.\n",
            "\u001b[0m\n",
            "\u001b[0m\n",
            "\u001b[34m\u001b[1m  You can now view your Streamlit app in your browser.\u001b[0m\n",
            "\u001b[0m\n",
            "\u001b[34m  Local URL: \u001b[0m\u001b[1mhttp://localhost:8501\u001b[0m\n",
            "\u001b[34m  Network URL: \u001b[0m\u001b[1mhttp://172.28.0.12:8501\u001b[0m\n",
            "\u001b[34m  External URL: \u001b[0m\u001b[1mhttp://104.196.252.100:8501\u001b[0m\n",
            "\u001b[0m\n",
            "\u001b[34m  Stopping...\u001b[0m\n",
            "\u001b[34m  Stopping...\u001b[0m\n"
          ]
        }
      ]
    },
    {
      "cell_type": "code",
      "source": [
        "BING_API_KEY = 'a2dc7820ceec40cd8510d5216af2acd8'\n",
        "USDA_API_KEY = 'a3Kjbw3msqaHPSYFBGTo4zk5WNCZ72QCy1rzjpx3'"
      ],
      "metadata": {
        "id": "Rx-Fd6mwelMv"
      },
      "execution_count": null,
      "outputs": []
    }
  ]
}